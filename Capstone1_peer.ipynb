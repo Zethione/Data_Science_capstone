{
  "nbformat": 4,
  "nbformat_minor": 0,
  "metadata": {
    "colab": {
      "name": "Capstone1_peer.ipynb",
      "provenance": [],
      "collapsed_sections": [],
      "toc_visible": true,
      "include_colab_link": true
    },
    "kernelspec": {
      "name": "python3",
      "display_name": "Python 3"
    }
  },
  "cells": [
    {
      "cell_type": "markdown",
      "metadata": {
        "id": "view-in-github",
        "colab_type": "text"
      },
      "source": [
        "<a href=\"https://colab.research.google.com/github/Zethione/Data_Science_capstone/blob/master/Capstone1_peer.ipynb\" target=\"_parent\"><img src=\"https://colab.research.google.com/assets/colab-badge.svg\" alt=\"Open In Colab\"/></a>"
      ]
    },
    {
      "cell_type": "markdown",
      "metadata": {
        "id": "9UNliQ1mSuzv",
        "colab_type": "text"
      },
      "source": [
        "#Coursera: Applied Data Science Capstone"
      ]
    },
    {
      "cell_type": "markdown",
      "metadata": {
        "id": "H2_J-zleSv5M",
        "colab_type": "text"
      },
      "source": [
        "This notebook is just a part of the peer-review graded assignment under Applied Data Science Capstone course of Coursera."
      ]
    },
    {
      "cell_type": "code",
      "metadata": {
        "id": "nqEr7rcTSr8q",
        "colab_type": "code",
        "outputId": "156137c3-03f8-4b73-e8e1-66bf14daad85",
        "colab": {
          "base_uri": "https://localhost:8080/",
          "height": 35
        }
      },
      "source": [
        "import pandas as pd\n",
        "import numpy as np\n",
        "\n",
        "print(\"Hello Capstone Project Course!\")"
      ],
      "execution_count": 0,
      "outputs": [
        {
          "output_type": "stream",
          "text": [
            "Hello Capstone Project Course!\n"
          ],
          "name": "stdout"
        }
      ]
    },
    {
      "cell_type": "code",
      "metadata": {
        "id": "dhvM2BZNS5js",
        "colab_type": "code",
        "colab": {}
      },
      "source": [
        ""
      ],
      "execution_count": 0,
      "outputs": []
    }
  ]
}